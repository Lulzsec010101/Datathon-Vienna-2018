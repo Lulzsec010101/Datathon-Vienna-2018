{
 "cells": [
  {
   "cell_type": "code",
   "execution_count": 5,
   "metadata": {},
   "outputs": [
    {
     "name": "stdout",
     "output_type": "stream",
     "text": [
      "sozial 79\n",
      "gesellschaft 62\n",
      "demokrati 55\n",
      "bürger 47\n",
      "ngo 22\n",
      "facebook 21\n",
      "medien 19\n",
      "mehr 18\n",
      "sollen 16\n",
      "us 14\n",
      "eu 12\n",
      "al 10\n",
      "netzwerk 10\n",
      "österreich 10\n",
      "deutsch 9\n",
      "jahr 9\n",
      "direkt 9\n",
      "fpö 9\n",
      "beim 9\n",
      "kritik 9\n",
      "politik 8\n",
      "dass 8\n",
      "sagt 8\n",
      "regierung 8\n",
      "kinder 8\n",
      "problem 8\n",
      "wurd 7\n",
      "menschen 7\n",
      "seit 7\n",
      "statt 7\n",
      "politischen 7\n",
      "all 7\n",
      "zeigt 7\n",
      "klein 7\n",
      "wien 6\n",
      "wenig 6\n",
      "gesetz 6\n",
      "volksbegehren 6\n",
      "euro 6\n",
      "wegen 6\n",
      "braucht 6\n",
      "europa 6\n",
      "präsident 6\n",
      "internet 6\n",
      "co 6\n"
     ]
    }
   ],
   "source": [
    "import psycopg2\n",
    "from nltk.corpus import stopwords\n",
    "from collections import Counter\n",
    "\n",
    "try:\n",
    "    conn = psycopg2.connect(\"dbname='postgres' user='read_only_user' host='datathon.data-lab.io' password='datathon2018'\")\n",
    "except:\n",
    "    print(\"I am unable to connect to the database\")\n",
    "\n",
    "\n",
    "cur = conn.cursor()\n",
    "\n",
    "cur.execute(\"\"\"select document from standard where document @@ to_tsquery('Gesellschaft | NGO | Bürger | NPO | gemein | gemeinnützig | sozial | demokratie') and to_char(pubdate,'yyyy')='2018';\"\"\")\n",
    "\n",
    "rows = cur.fetchall()\n",
    "\n",
    "res=[]\n",
    "for row in rows:\n",
    "    for s in row[0].split(':'):\n",
    "        if len(s.split(' '))>1:\n",
    "            res.append(s.split(' ')[1])\n",
    "            \n",
    "counts = Counter(res)\n",
    "\n",
    "bestof=counts.most_common(100)\n",
    "\n",
    "s=set(stopwords.words('german'))\n",
    "\n",
    "for i in bestof:\n",
    "    if i[0].replace(\"'\",'') not in s:\n",
    "        print(i[0].replace(\"'\",''), i[1])"
   ]
  },
  {
   "cell_type": "code",
   "execution_count": null,
   "metadata": {
    "collapsed": true
   },
   "outputs": [],
   "source": []
  }
 ],
 "metadata": {
  "kernelspec": {
   "display_name": "Python 3",
   "language": "python",
   "name": "python3"
  },
  "language_info": {
   "codemirror_mode": {
    "name": "ipython",
    "version": 3
   },
   "file_extension": ".py",
   "mimetype": "text/x-python",
   "name": "python",
   "nbconvert_exporter": "python",
   "pygments_lexer": "ipython3",
   "version": "3.6.3"
  }
 },
 "nbformat": 4,
 "nbformat_minor": 2
}
